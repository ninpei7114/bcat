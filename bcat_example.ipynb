{
 "cells": [
  {
   "cell_type": "markdown",
   "source": [
    "# bcatの具体的な使用例をここに示す"
   ],
   "metadata": {}
  },
  {
   "cell_type": "markdown",
   "source": [
    "### <span style=\"color: red; \">1、モジュールのimport</span>"
   ],
   "metadata": {}
  },
  {
   "cell_type": "code",
   "execution_count": 1,
   "source": [
    "#bcatをimportする\n",
    "#sysを使って、bcatがあるディレクトリを指定\n",
    "import sys\n",
    "sys.path.append('../../../../../bcat/')\n",
    "import bcat.io.opu1p85\n",
    "import bcat\n",
    "\n",
    "#その他のモジュールのimport\n",
    "import astropy\n",
    "import astropy.units as u\n",
    "import astropy.io.fits as fits\n",
    "from astropy.wcs import WCS\n",
    "\n",
    "import numpy as np\n",
    "import matplotlib.pyplot as plt"
   ],
   "outputs": [],
   "metadata": {}
  },
  {
   "cell_type": "markdown",
   "source": [
    "### <span style=\"color: red; \">2、bcat stage1</span>"
   ],
   "metadata": {}
  },
  {
   "cell_type": "code",
   "execution_count": 2,
   "source": [
    "# データの取得を行う\n",
    "path = '/1p85m/data4/operation/otf_Cygnus/20210208_225539.necstdb/'\n",
    "d = bcat.io.opu1p85.opendata(path,vwidth=150,spec='12CO21')"
   ],
   "outputs": [
    {
     "output_type": "stream",
     "name": "stderr",
     "text": [
      "/usr/local/lib/python3.6/dist-packages/astroquery/lamda/core.py:145: UserWarning: The first time a LAMDA function is called, it must assemble a list of valid molecules and URLs.  This list will be cached so future operations will be faster.\n",
      "  warnings.warn(\"The first time a LAMDA function is called, it must \"\n"
     ]
    },
    {
     "output_type": "stream",
     "name": "stdout",
     "text": [
      "8\n",
      "78239\n"
     ]
    }
   ],
   "metadata": {}
  },
  {
   "cell_type": "code",
   "execution_count": 3,
   "source": [
    "#chopper wheel\n",
    "Tas,coord_on = d.get_chopper_wheel_spec()"
   ],
   "outputs": [],
   "metadata": {}
  },
  {
   "cell_type": "markdown",
   "source": [
    "### <span style=\"color: red; \">3、bcat stage2</span>"
   ],
   "metadata": {}
  },
  {
   "cell_type": "code",
   "execution_count": 4,
   "source": [
    "# stage2フォーマットに変更\n",
    "d2_data = bcat.structure.stage2_data(coord=coord_on, spectrum=Tas, rf=d.data.rf)\n",
    "d2 = bcat.stage2.stage2_container.stage2_container(d2_data)"
   ],
   "outputs": [],
   "metadata": {}
  },
  {
   "cell_type": "code",
   "execution_count": 5,
   "source": [
    "# どの輝線かを選択 '12CO21'、'12CO32'、'13CO21'、'13CO32'、'C18O21'、'C18O32'\n",
    "spec = '12CO21'"
   ],
   "outputs": [],
   "metadata": {}
  },
  {
   "cell_type": "code",
   "execution_count": 6,
   "source": [
    "_12CO21_restfreq = 230.538000*u.GHz\n",
    "_12CO32_restfreq = 345.795990*u.GHz\n",
    "_13CO21_restfreq = 220.398684*u.GHz\n",
    "_13CO32_restfreq = 330.587965*u.GHz\n",
    "C18O21_restfreq = 219.560358*u.GHz\n",
    "C18O32_restfreq = 329.330552*u.GHz"
   ],
   "outputs": [],
   "metadata": {}
  },
  {
   "cell_type": "code",
   "execution_count": 7,
   "source": [
    "co_dic = {'12CO21':_12CO21_restfreq, '12CO32':_12CO32_restfreq, '13CO21':_13CO21_restfreq, '13CO32':_13CO32_restfreq,\n",
    "         'C18O21':C18O21_restfreq, 'C18O32':C18O32_restfreq}"
   ],
   "outputs": [],
   "metadata": {}
  },
  {
   "cell_type": "code",
   "execution_count": 8,
   "source": [
    "CO_restfreq = co_dic[spec]"
   ],
   "outputs": [],
   "metadata": {}
  },
  {
   "cell_type": "code",
   "execution_count": 9,
   "source": [
    "# radec解析か、galactic解析かを選択\n",
    "\n",
    "world = 'galactic'\n",
    "# world = 'radec'"
   ],
   "outputs": [],
   "metadata": {}
  },
  {
   "cell_type": "code",
   "execution_count": 10,
   "source": [
    "beam_size_dic = {'12CO21':180, '12CO32':120, '13CO21':180, '13CO32':120,\n",
    "         'C18O21':180, 'C18O32':120}"
   ],
   "outputs": [],
   "metadata": {}
  },
  {
   "cell_type": "code",
   "execution_count": 11,
   "source": [
    "### headerを作成\n",
    "## このheaderで観測領域のどの範囲をfitsに直すかを決める\n",
    "\n",
    "hdu = fits.PrimaryHDU()\n",
    "\n",
    "hdu.header['BITPIX']  =                  -64                                                 \n",
    "hdu.header['NAXIS']   =                   3                                                 \n",
    "hdu.header['NAXIS1']  =                   64            #axis1を何ピクセルにするか                                    \n",
    "hdu.header['NAXIS2']  =                   60            #axis2を何ピクセルにするか\n",
    "hdu.header['NAXIS3']  =                   480           #axis3を何ピクセルにするか\n",
    "hdu.header['BPA']     = 0.000000\n",
    "hdu.header['BMAJ']    = beam_size_dic[spec]/3600                                                  \n",
    "hdu.header['BMIN']    = beam_size_dic[spec]/3600\n",
    "hdu.header['BSCALE']  =    1.00000000000E+00                                            \n",
    "hdu.header['BZERO']   =    0.00000000000E+00  \n",
    "#hdu.header['EPOCH']   =                 2000                                                                                                    \n",
    "hdu.header['BUNIT']   = 'K(Ta*)       '                                                                                                    \n",
    "hdu.header['CTYPE1']  = 'GLON-TAN'              #radec解析か、galactic解析かで変わる radecの場合は、'RA---TAN'                                                \n",
    "hdu.header['CRVAL1']  =                   81.486  # 中心座標を指定     横軸          \n",
    "hdu.header['CDELT1']  =                  -beam_size_dic[spec]/3/3600                                                 \n",
    "hdu.header['CRPIX1']  =                  hdu.header['NAXIS1']/2                                                  \n",
    "hdu.header['CROTA1']  =                  0.0                                                  \n",
    "hdu.header['CUNIT1']  = 'deg     ' \n",
    "\n",
    "hdu.header['CTYPE2']  = 'GLAT-TAN'              #radec解析か、galactic解析かで変わる radecの場合は、'DEC--TAN'                                              \n",
    "hdu.header['CRVAL2']  =                  -0.01    # 中心座標を指定   縦軸                      \n",
    "hdu.header['CDELT2']  =                  beam_size_dic[spec]/3/3600                                                  \n",
    "hdu.header['CRPIX2']  =                  hdu.header['NAXIS2']/2                                                  \n",
    "hdu.header['CROTA2']  =                  0.0                                                  \n",
    "hdu.header['CUNIT2']  = 'deg     '          \n",
    "hdu.header['CTYPE3']  = 'VELOCITY'                                                            \n",
    "hdu.header['CRVAL3']  =                  0                            \n",
    "hdu.header['CDELT3']  =                  500.0                                                  \n",
    "hdu.header['CRPIX3']  =                  240                                                \n",
    "hdu.header['CROTA3']  =                  0.0                                                  \n",
    "hdu.header['CUNIT3']  = 'm/s    ' \n",
    "\n",
    "hdu.header['OBJECT']  = 'CYGNUS_X_field'         # objectの名前を決める\n",
    "hdu.header['RESTFREQ']=           CO_restfreq.value\n",
    "hdu.header['BUNIT']   = 'K       '           #/ Main Beam Temperature"
   ],
   "outputs": [],
   "metadata": {}
  },
  {
   "cell_type": "code",
   "execution_count": 12,
   "source": [
    "## ここでheaderで書いた情報があっているのかを確認\n",
    "## 青がon点の座標で、赤がheaderで決めた座標点\n",
    "\n",
    "w = WCS(hdu.header)\n",
    "pix_x, pix_y = np.meshgrid(\n",
    "    np.arange(0,hdu.header['NAXIS1']), \n",
    "    np.arange(0, hdu.header['NAXIS2'])\n",
    ")\n",
    "center_ra_dec = w.wcs_pix2world(pix_x, pix_y, 0, 0)\n",
    "center_ra, center_dec = center_ra_dec[0], center_ra_dec[1]\n",
    "plt.figure(figsize=(10,10))\n",
    "\n",
    "plt.scatter(d2.data.coord.galactic.l.degree, d2.data.coord.galactic.b.degree, s=10 ,alpha=1)\n",
    "plt.scatter(center_ra.ravel(), center_dec.ravel(),s=5)\n",
    "plt.gca().invert_xaxis()"
   ],
   "outputs": [
    {
     "output_type": "display_data",
     "data": {
      "image/png": "[encoded data removed]",
      "text/plain": [
       "<Figure size 720x720 with 1 Axes>"
      ]
     },
     "metadata": {}
    }
   ],
   "metadata": {}
  },
  {
   "cell_type": "code",
   "execution_count": 13,
   "source": [
    "# headerで作成した速度方向の指定値を作成\n",
    "_, _, target_v = w.wcs_pix2world(0, 0, np.arange(w.array_shape[0]), 0)\n",
    "target_v = target_v*u.m/u.s"
   ],
   "outputs": [],
   "metadata": {}
  },
  {
   "cell_type": "markdown",
   "source": [
    "### <span style=\"color: red; \">4、imaging</span>"
   ],
   "metadata": {}
  },
  {
   "cell_type": "code",
   "execution_count": 14,
   "source": [
    "# 速度方向のをregridする\n",
    "image = bcat.stage2.imaging.speed()"
   ],
   "outputs": [],
   "metadata": {}
  },
  {
   "cell_type": "code",
   "execution_count": 15,
   "source": [
    "#　速度の補正値を作成\n",
    "v_correction = image.calc_v_correction(base_data=d2, \n",
    "                                 loc_lon=138.472153, \n",
    "                                 loc_lat=35.940874, \n",
    "                                 loc_height=1386)"
   ],
   "outputs": [],
   "metadata": {}
  },
  {
   "cell_type": "code",
   "execution_count": 16,
   "source": [
    "## 速度方向のregrid後の値\n",
    "thinned_list = image.speed_imaging(base_data=d2, \n",
    "                               target_velocity = target_v, \n",
    "                               v_corre = v_correction, \n",
    "                               target_freq = CO_restfreq)"
   ],
   "outputs": [],
   "metadata": {}
  },
  {
   "cell_type": "markdown",
   "source": [
    "### <span style=\"color: red; \">5、baseline</span>"
   ],
   "metadata": {}
  },
  {
   "cell_type": "code",
   "execution_count": 17,
   "source": [
    "baseline = bcat.stage2.Baseline_Rms.Baseline_Rms(np.array(thinned_list), target_v)"
   ],
   "outputs": [],
   "metadata": {}
  },
  {
   "cell_type": "code",
   "execution_count": 18,
   "source": [
    "baseline.mean_sp()"
   ],
   "outputs": [
    {
     "output_type": "display_data",
     "data": {
      "image/png": "[encoded data removed]",
      "text/plain": [
       "<Figure size 432x288 with 1 Axes>"
      ]
     },
     "metadata": {}
    }
   ],
   "metadata": {}
  },
  {
   "cell_type": "code",
   "execution_count": 19,
   "source": [
    "# baselineの範囲を決める\n",
    "baseline.input_fitdata_param_parts([[-120, -70,], [50, 120]])"
   ],
   "outputs": [],
   "metadata": {}
  },
  {
   "cell_type": "code",
   "execution_count": 20,
   "source": [
    "# baselineのfit関数の次元を決める\n",
    "baseline.select_func(fit_func=True, order=3)"
   ],
   "outputs": [],
   "metadata": {}
  },
  {
   "cell_type": "code",
   "execution_count": 21,
   "source": [
    "baseline.sample()"
   ],
   "outputs": [
    {
     "output_type": "stream",
     "name": "stdout",
     "text": [
      "part :True, clip :False\n",
      "fit v list : [[-120, -70], [50, 120]]\n",
      "omega :None, maxiters :None\n"
     ]
    },
    {
     "output_type": "display_data",
     "data": {
      "image/png": "[encoded data removed]",
      "text/plain": [
       "<Figure size 432x288 with 1 Axes>"
      ]
     },
     "metadata": {}
    },
    {
     "output_type": "stream",
     "name": "stdout",
     "text": [
      "x-func :True, order :3\n",
      "cheb func :False, deg :None\n"
     ]
    },
    {
     "output_type": "display_data",
     "data": {
      "image/png": "[encoded data removed]",
      "text/plain": [
       "<Figure size 432x288 with 1 Axes>"
      ]
     },
     "metadata": {}
    },
    {
     "output_type": "stream",
     "name": "stdout",
     "text": [
      "rms : 0.07375447596112239\n"
     ]
    }
   ],
   "metadata": {}
  },
  {
   "cell_type": "code",
   "execution_count": 22,
   "source": [
    "base_rms = baseline.mk_baseline_rms_list()"
   ],
   "outputs": [],
   "metadata": {}
  },
  {
   "cell_type": "code",
   "execution_count": 23,
   "source": [
    "baseline.mk_mean_rms()"
   ],
   "outputs": [
    {
     "output_type": "execute_result",
     "data": {
      "text/plain": [
       "3.541925598188729"
      ]
     },
     "metadata": {},
     "execution_count": 23
    }
   ],
   "metadata": {}
  },
  {
   "cell_type": "code",
   "execution_count": 24,
   "source": [
    "thinned_list_base = base_rms[1]\n",
    "rms_list = base_rms[2]\n",
    "fit_ch_list = base_rms[3]\n",
    "# thinned_list_base"
   ],
   "outputs": [],
   "metadata": {}
  },
  {
   "cell_type": "markdown",
   "source": [
    "### <span style=\"color: red; \">6、データの成形＋fitsの作成</span>"
   ],
   "metadata": {}
  },
  {
   "cell_type": "code",
   "execution_count": 25,
   "source": [
    "pix_x, pix_y = np.meshgrid(np.arange(0, hdu.header['NAXIS1']), np.arange(0, hdu.header['NAXIS2']))\n",
    "center_x_y = w.wcs_pix2world(pix_x, pix_y, 0, 0)\n",
    "center_x, center_y = center_x_y[0], center_x_y[1]"
   ],
   "outputs": [],
   "metadata": {}
  },
  {
   "cell_type": "code",
   "execution_count": 26,
   "source": [
    "if world == 'galactic':\n",
    "    target_x= d2.data.coord.galactic.l\n",
    "    target_y = d2.data.coord.galactic.b\n",
    "    \n",
    "elif world == 'radec':\n",
    "    target_x= d2.data.coord.ra\n",
    "    target_y = d2.data.coord.dec\n",
    "else:\n",
    "    print('error')"
   ],
   "outputs": [],
   "metadata": {}
  },
  {
   "cell_type": "code",
   "execution_count": 27,
   "source": [
    "#thinned_list_base_list_listは二次元、rms_list_listは一次元\n",
    "rere = image.space_regrid(target_x, target_y, \n",
    "                              center_x, center_y, \n",
    "                              thinned_list_base, rms_list, hdu.header, \n",
    "                              kernel_sigma=np.abs(hdu.header['CDELT2'])*u.deg)"
   ],
   "outputs": [],
   "metadata": {}
  },
  {
   "cell_type": "code",
   "execution_count": 28,
   "source": [
    "rere1 = np.array(rere)\n",
    "rere2 = rere1.reshape(hdu.header['NAXIS2'], hdu.header['NAXIS1'] , hdu.header['NAXIS3'])\n",
    "peak = np.max(rere2[:, :, :], axis=2)\n",
    "peak[peak == 0] = np.nan\n",
    "plt.imshow(peak, origin='lower', vmin=0, vmax=4)\n",
    "# plt.xlim(0,20)\n",
    "# plt.ylim(30, 40)\n",
    "plt.colorbar()\n",
    "#最終的にv, y, x"
   ],
   "outputs": [
    {
     "output_type": "execute_result",
     "data": {
      "text/plain": [
       "<matplotlib.colorbar.Colorbar at 0x7fafd7b41940>"
      ]
     },
     "metadata": {},
     "execution_count": 28
    },
    {
     "output_type": "display_data",
     "data": {
      "image/png": "[encoded data removed]",
      "text/plain": [
       "<Figure size 432x288 with 2 Axes>"
      ]
     },
     "metadata": {}
    }
   ],
   "metadata": {}
  },
  {
   "cell_type": "code",
   "execution_count": 29,
   "source": [
    "rere3 = np.swapaxes(rere2, 1, 2)\n",
    "rere4 = np.swapaxes(rere3, 0, 1)"
   ],
   "outputs": [],
   "metadata": {}
  },
  {
   "cell_type": "code",
   "execution_count": 30,
   "source": [
    "new_hdu = astropy.io.fits.PrimaryHDU(rere4, hdu.header)\n",
    "new_hdu_list = astropy.io.fits.HDUList([new_hdu])\n",
    "new_hdu_list.writeto('new_bcat_%s_%s_%s.fits'%(hdu.header['OBJECT'], spec, path.split('/')[-2].split('.')[0]), overwrite=True)\n",
    "#天体_輝線_観測日\n",
    "#上記の保存名はテンプレート"
   ],
   "outputs": [],
   "metadata": {}
  },
  {
   "cell_type": "markdown",
   "source": [
    "### <span style=\"color: red; \">7、rmsマップの作成</span>"
   ],
   "metadata": {}
  },
  {
   "cell_type": "code",
   "execution_count": null,
   "source": [
    "rere5 = copy.deepcopy(rere4)\n",
    "rere5 = np.concatenate([rere5[fit_ch_list]], axis=0)\n",
    "rms_map = np.std(rere5, axis=0)"
   ],
   "outputs": [],
   "metadata": {}
  },
  {
   "cell_type": "code",
   "execution_count": null,
   "source": [
    "plt.imshow(rms_map, vmin=0, vmax=1)\n",
    "plt.colorbar()"
   ],
   "outputs": [],
   "metadata": {}
  },
  {
   "cell_type": "code",
   "execution_count": null,
   "source": [
    "rms_header = copy.deepcopy(hdu.header)\n",
    "rms_header.pop('NAXIS3')\n",
    "rms_header.pop('CTYPE3')\n",
    "rms_header.pop('CRVAL3')\n",
    "rms_header.pop('CDELT3')\n",
    "rms_header.pop('CRPIX3')\n",
    "rms_header.pop('CROTA3')\n",
    "rms_header.pop('CUNIT3')\n",
    "rms_header.update(NAXIS=2)"
   ],
   "outputs": [],
   "metadata": {}
  },
  {
   "cell_type": "code",
   "execution_count": null,
   "source": [
    "new_hdu_rms = astropy.io.fits.PrimaryHDU(rms_map, rms_header)\n",
    "new_hdu_list_rms = astropy.io.fits.HDUList([new_hdu_rms])\n",
    "new_hdu_list_rms.writeto('%s/%s_%s_%s_RMS.fits'%(path.split('/')[-2].split('.')[0], rms_header['OBJECT'], spec, path.split('/')[-2].split('.')[0]), \n",
    "                         overwrite=True)"
   ],
   "outputs": [],
   "metadata": {}
  }
 ],
 "metadata": {
  "kernelspec": {
   "name": "python3",
   "display_name": "Python 3.6.9 64-bit"
  },
  "language_info": {
   "codemirror_mode": {
    "name": "ipython",
    "version": 3
   },
   "file_extension": ".py",
   "mimetype": "text/x-python",
   "name": "python",
   "nbconvert_exporter": "python",
   "pygments_lexer": "ipython3",
   "version": "3.6.9"
  },
  "interpreter": {
   "hash": "31f2aee4e71d21fbe5cf8b01ff0e069b9275f58929596ceb00d14d90e3e16cd6"
  }
 },
 "nbformat": 4,
 "nbformat_minor": 2
}